{
 "cells": [
  {
   "cell_type": "code",
   "execution_count": 1,
   "metadata": {},
   "outputs": [],
   "source": [
    "import numpy as np\n",
    "import json\n",
    "import os\n",
    "\n",
    "from util import Constants\n",
    "import util"
   ]
  },
  {
   "cell_type": "code",
   "execution_count": 2,
   "metadata": {},
   "outputs": [],
   "source": [
    "# EXAMPLE INPUT FILE\n",
    "input_file = \"processed_sheets/Amy Winehouse, Winehouse - YOU KNOW I'M NO GOOD.json\"\n",
    "\n",
    "with open(input_file, 'r') as f:\n",
    "    sheet = json.load(f)\n",
    "    \n",
    "# SHEET SCHEMA\n",
    "# {'note': {'pitch': int, 'alter': int, 'rest': boolean},\n",
    "#   'rhythm': {'duration': float,\n",
    "#    'divisions': float,\n",
    "#    'index': int,\n",
    "#    'new_measure': boolean},\n",
    "#   'chord': {'root': String, 'mode': String, 'alter': int}}"
   ]
  },
  {
   "cell_type": "code",
   "execution_count": 3,
   "metadata": {},
   "outputs": [],
   "source": [
    "# CONVERT TO NUMPY REPRESENTATION\n",
    "\n",
    "# NUMPY SCHEMA\n",
    "# [0:127] -> MIDI pitch (one-hot)\n",
    "# [128] -> rest (one-hot)\n",
    "# [129] -> barline (one-hot)\n",
    "\n",
    "# [130:141] -> rhythm index (one-hot)\n",
    "# [142] -> barline (one-hot) (repeated)\n",
    "\n",
    "# [143:190] -> chord (one-hot)\n",
    "# [191] -> barline (one-hot) (repeated)\n",
    "\n",
    "D = 192\n",
    "np_sheet = []\n",
    "\n",
    "for x in sheet:\n",
    "    if x['rhythm']['new_measure']:\n",
    "        entry = np.zeros(192)\n",
    "        entry[128] = 1\n",
    "        entry[142] = 1\n",
    "        entry[191] = 1\n",
    "        np_sheet.append(entry)\n",
    "    \n",
    "    entry = np.zeros(192)\n",
    "    \n",
    "    entry[0 + x['note']['pitch']] = 1\n",
    "    entry[128] = int(x['note']['rest'])\n",
    "    entry[130 + x['rhythm']['index']] = 1\n",
    "    \n",
    "    chord_index = util.chord_to_index(x['chord']['root'], x['chord']['mode'], x['chord']['alter'])\n",
    "    entry[143 + chord_index] = 1\n",
    "    \n",
    "    np_sheet.append(entry)"
   ]
  },
  {
   "cell_type": "code",
   "execution_count": 4,
   "metadata": {},
   "outputs": [
    {
     "data": {
      "text/plain": [
       "array([[ 0.,  0.,  0., ...,  0.,  0.,  1.],\n",
       "       [ 0.,  0.,  0., ...,  0.,  0.,  0.],\n",
       "       [ 1.,  0.,  0., ...,  0.,  0.,  0.],\n",
       "       ..., \n",
       "       [ 0.,  0.,  0., ...,  0.,  0.,  0.],\n",
       "       [ 0.,  0.,  0., ...,  0.,  0.,  0.],\n",
       "       [ 0.,  0.,  0., ...,  0.,  0.,  0.]])"
      ]
     },
     "execution_count": 4,
     "metadata": {},
     "output_type": "execute_result"
    }
   ],
   "source": [
    "np.asarray(np_sheet)"
   ]
  },
  {
   "cell_type": "code",
   "execution_count": null,
   "metadata": {},
   "outputs": [],
   "source": []
  }
 ],
 "metadata": {
  "kernelspec": {
   "display_name": "Python 3",
   "language": "python",
   "name": "python3"
  },
  "language_info": {
   "codemirror_mode": {
    "name": "ipython",
    "version": 3
   },
   "file_extension": ".py",
   "mimetype": "text/x-python",
   "name": "python",
   "nbconvert_exporter": "python",
   "pygments_lexer": "ipython3",
   "version": "3.6.7"
  }
 },
 "nbformat": 4,
 "nbformat_minor": 2
}
