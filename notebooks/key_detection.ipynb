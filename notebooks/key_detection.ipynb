{
 "cells": [
  {
   "cell_type": "code",
   "execution_count": 1,
   "metadata": {},
   "outputs": [],
   "source": [
    "import sys\n",
    "import os\n",
    "sys.path.append('..')\n",
    "\n",
    "import json\n",
    "import numpy as np\n",
    "import scipy.spatial\n",
    "import util"
   ]
  },
  {
   "cell_type": "code",
   "execution_count": 2,
   "metadata": {},
   "outputs": [],
   "source": [
    "# key definitions\n",
    "key_notes = {\n",
    "    'C': ['C', 'D', 'E', 'F', 'G', 'A', 'B'],\n",
    "    'C#': ['C#', 'D#', 'F', 'F#', 'G#', 'A#', 'C'],\n",
    "    'D': ['D', 'E', 'F#', 'G', 'A', 'B', 'C#'],\n",
    "    'D#': ['D#', 'F', 'G', 'G#', 'A#', 'C', 'D'],\n",
    "    'E': ['E', 'F#', 'G#', 'A', 'B', 'C#', 'D#'],\n",
    "    'F': ['F', 'G', 'A', 'A#', 'C', 'D', 'E'],\n",
    "    'F#': ['F#', 'G#', 'A#', 'B', 'C#', 'D#', 'F'],\n",
    "    'G': ['G', 'A', 'B', 'C', 'D', 'E', 'F#'],\n",
    "    'G#': ['G#', 'A#', 'C', 'C#', 'D#', 'F', 'G'],\n",
    "    'A': ['A', 'B', 'C#', 'D', 'E', 'F#', 'G#'],\n",
    "    'A#': ['A#', 'C', 'D', 'D#', 'F', 'G', 'A'],\n",
    "    'B': ['B', 'C#', 'D#', 'E', 'F#', 'G#', 'A#'],\n",
    "    'Cm': ['D#', 'F', 'G', 'G#', 'A#', 'C', 'D'],\n",
    "    'C#m':['E', 'F#', 'G#', 'A', 'B', 'C#', 'D#'],\n",
    "    'Dm': ['F', 'G', 'A', 'A#', 'C', 'D', 'E'],\n",
    "    'D#m':['F#', 'G#', 'A#', 'B', 'C#', 'D#', 'F'],\n",
    "    'Em': ['G', 'A', 'B', 'C', 'D', 'E', 'F#'],\n",
    "    'Fm': ['G#', 'A#', 'C', 'C#', 'D#', 'F', 'G'],\n",
    "    'F#m':['A', 'B', 'C#', 'D', 'E', 'F#', 'G#'],\n",
    "    'Gm': ['A#', 'C', 'D', 'D#', 'F', 'G', 'A'],\n",
    "    'G#m':['B', 'C#', 'D#', 'E', 'F#', 'G#', 'A#'],\n",
    "    'Am': ['C', 'D', 'E', 'F', 'G', 'A', 'B'],\n",
    "    'A#m': ['C#', 'D#', 'F', 'F#', 'G#', 'A#', 'C'],\n",
    "    'Bm':['D', 'E', 'F#', 'G', 'A', 'B', 'C#']\n",
    "}\n",
    "\n",
    "for k in key_notes:\n",
    "    if k.endswith('m'):\n",
    "        key_notes[k] = [x+y for x,y in zip(key_notes[k], ['m', 'dim', '', 'm', 'm', '', ''])]\n",
    "    else:\n",
    "        key_notes[k] = [x+y for x,y in zip(key_notes[k], ['', 'm', 'm', '', '', 'm', 'dim'])]\n",
    "\n",
    "key_indices = { x:i for i,x in enumerate(key_notes.keys()) }\n",
    "\n",
    "key_vectors = { x:np.zeros(len(key_indices)) for x in key_indices }\n",
    "for k in key_vectors:\n",
    "    for chord in key_notes[k]:\n",
    "        if not 'dim' in chord:\n",
    "            key_vectors[k][key_indices[chord]] = 1.0"
   ]
  },
  {
   "cell_type": "code",
   "execution_count": 86,
   "metadata": {},
   "outputs": [],
   "source": [
    "with open('../data/processed_sheets/Alton Delmore and Rabon Delmore - Blues Stay Away From Me (Transcribed).json') as f:\n",
    "    sheet = json.load(f)"
   ]
  },
  {
   "cell_type": "code",
   "execution_count": 95,
   "metadata": {},
   "outputs": [
    {
     "name": "stdout",
     "output_type": "stream",
     "text": [
      "A#\n"
     ]
    }
   ],
   "source": [
    "sheet_hist = {x:0 for x in key_notes}\n",
    "\n",
    "for s in sheet:\n",
    "    chord = s['chord']['root']\n",
    "    alter = s['chord']['alter']\n",
    "    chord = chord + alter*'#'\n",
    "    mode = s['chord']['mode']\n",
    "    if mode == 'MINOR':\n",
    "        chord += 'm'\n",
    "    elif mode == 'DIMINISHED':\n",
    "        chord += 'dim'\n",
    "    \n",
    "    if 'dim' not in chord:\n",
    "        sheet_hist[chord] += 1\n",
    "    \n",
    "sheet_vec = np.zeros(len(key_indices))\n",
    "for k in sheet_hist:\n",
    "    sheet_vec[key_indices[k]] = sheet_hist[k]\n",
    "    \n",
    "distances = list(map(lambda k:(k,scipy.spatial.distance.cosine(sheet_vec, key_vectors[k])), key_vectors.keys()))\n",
    "distances = sorted(distances, key=lambda e:e[1])\n",
    "predicted_key = distances[0][0]\n",
    "print(predicted_key)"
   ]
  },
  {
   "cell_type": "code",
   "execution_count": null,
   "metadata": {},
   "outputs": [],
   "source": []
  },
  {
   "cell_type": "code",
   "execution_count": 4,
   "metadata": {},
   "outputs": [
    {
     "name": "stderr",
     "output_type": "stream",
     "text": [
      "/usr/lib/python3/dist-packages/scipy/spatial/distance.py:505: RuntimeWarning: invalid value encountered in double_scalars\n",
      "  dist = 1.0 - np.dot(u, v) / (norm(u) * norm(v))\n"
     ]
    }
   ],
   "source": [
    "predicted_keys = {x:0 for x in key_notes}\n",
    "\n",
    "for psheet in os.listdir('../data/processed_sheets/'):\n",
    "    if psheet.endswith('.json') and not psheet.startswith('.'):\n",
    "        with open(os.path.join('../data/processed_sheets/', psheet)) as f:\n",
    "            sheet = json.load(f)\n",
    "            sheet_hist = {x:0 for x in key_notes}\n",
    "            \n",
    "            for s in sheet:\n",
    "                chord = s['chord']['root']\n",
    "                alter = s['chord']['alter']\n",
    "                chord = chord + alter*'#'\n",
    "                mode = s['chord']['mode']\n",
    "                if mode == 'MINOR':\n",
    "                    chord += 'm'\n",
    "                elif mode == 'DIMINISHED':\n",
    "                    chord += 'dim'\n",
    "\n",
    "                if 'dim' not in chord:\n",
    "                    sheet_hist[chord] += 1\n",
    "\n",
    "            sheet_vec = np.zeros(len(key_indices))\n",
    "            for k in sheet_hist:\n",
    "                sheet_vec[key_indices[k]] = sheet_hist[k]\n",
    "\n",
    "            distances = list(map(lambda k:(k,scipy.spatial.distance.cosine(sheet_vec, key_vectors[k])), key_vectors.keys()))\n",
    "            distances = sorted(distances, key=lambda e:e[1])\n",
    "            predicted_key = distances[0][0]\n",
    "            predicted_keys[predicted_key] += 1"
   ]
  },
  {
   "cell_type": "code",
   "execution_count": 5,
   "metadata": {},
   "outputs": [
    {
     "data": {
      "text/plain": [
       "{'A': 121,\n",
       " 'A#': 528,\n",
       " 'A#m': 6,\n",
       " 'Am': 9,\n",
       " 'B': 19,\n",
       " 'Bm': 3,\n",
       " 'C': 1703,\n",
       " 'C#': 44,\n",
       " 'C#m': 2,\n",
       " 'Cm': 12,\n",
       " 'D': 371,\n",
       " 'D#': 665,\n",
       " 'D#m': 4,\n",
       " 'Dm': 22,\n",
       " 'E': 92,\n",
       " 'Em': 13,\n",
       " 'F': 1059,\n",
       " 'F#': 20,\n",
       " 'F#m': 9,\n",
       " 'Fm': 13,\n",
       " 'G': 875,\n",
       " 'G#': 148,\n",
       " 'G#m': 3,\n",
       " 'Gm': 22}"
      ]
     },
     "execution_count": 5,
     "metadata": {},
     "output_type": "execute_result"
    }
   ],
   "source": [
    "predicted_keys"
   ]
  },
  {
   "cell_type": "code",
   "execution_count": null,
   "metadata": {},
   "outputs": [],
   "source": []
  }
 ],
 "metadata": {
  "kernelspec": {
   "display_name": "Python 3",
   "language": "python",
   "name": "python3"
  },
  "language_info": {
   "codemirror_mode": {
    "name": "ipython",
    "version": 3
   },
   "file_extension": ".py",
   "mimetype": "text/x-python",
   "name": "python",
   "nbconvert_exporter": "python",
   "pygments_lexer": "ipython3",
   "version": "3.6.7"
  }
 },
 "nbformat": 4,
 "nbformat_minor": 2
}
