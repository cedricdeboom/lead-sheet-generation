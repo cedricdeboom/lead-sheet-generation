{
 "cells": [
  {
   "cell_type": "code",
   "execution_count": 1,
   "metadata": {},
   "outputs": [],
   "source": [
    "import xml.etree.ElementTree as ET\n",
    "import numpy as np\n",
    "import xmltodict\n",
    "import util\n",
    "import math\n",
    "\n",
    "from collections import OrderedDict"
   ]
  },
  {
   "cell_type": "code",
   "execution_count": 2,
   "metadata": {},
   "outputs": [],
   "source": [
    "sheet = ET.parse('seed_template/seed_template.xml')"
   ]
  },
  {
   "cell_type": "code",
   "execution_count": 3,
   "metadata": {},
   "outputs": [],
   "source": [
    "data = [\n",
    "    (12, 48),\n",
    "    (8, 32),\n",
    "    (8, 32),\n",
    "    (8, 32),\n",
    "    (5, 32),\n",
    "    (5, 32),\n",
    "    (12, 48),\n",
    "    (8, 21),\n",
    "    (8, 21),\n",
    "    (10, 21)\n",
    "]"
   ]
  },
  {
   "cell_type": "code",
   "execution_count": 79,
   "metadata": {},
   "outputs": [],
   "source": [
    "### SCHEMA\n",
    "# <measure number=\"1\">\n",
    "#       <attributes>\n",
    "#         <divisions>2</divisions>\n",
    "#         </attributes>\n",
    "#       <harmony print-frame=\"no\">\n",
    "#         <root>\n",
    "#           <root-step>F</root-step>\n",
    "#         </root>\n",
    "#         <kind>major</kind>\n",
    "#       </harmony>\n",
    "#       <note>\n",
    "#         <pitch>\n",
    "#           <step>C</step>\n",
    "#           <octave>4</octave>\n",
    "#         </pitch>\n",
    "#         <duration>2</duration>\n",
    "#         <voice>1</voice>\n",
    "#         <type>quarter</type>\n",
    "#       </note>\n",
    "# </measure>\n",
    "\n",
    "\n",
    "# read XML\n",
    "sheet = ET.parse('seed_template/seed_template.xml')\n",
    "\n",
    "# STEP 1: find divisions\n",
    "needed_divisions = [util.Constants.MIN_NEEDED_DIVISIONS[r[0]] for r in data]\n",
    "\n",
    "def find_lcm(x):\n",
    "    lcm = needed_divisions[0]\n",
    "    for i in needed_divisions[1:]:\n",
    "        lcm = lcm * i // math.gcd(lcm, i)\n",
    "    return lcm\n",
    "\n",
    "divs = find_lcm(needed_divisions)\n",
    "\n",
    "# FILL MEASURES\n",
    "part_xml = sheet.getroot().find('part')\n",
    "measure_count = 0\n",
    "for idx, d in enumerate(data):\n",
    "    if d[0] == 12:\n",
    "        if measure_count >= 1:\n",
    "            part_xml.append(measure)\n",
    "        \n",
    "        measure = ET.Element('measure')\n",
    "        measure_count += 1\n",
    "        measure.attrib['number'] = str(measure_count)\n",
    "        \n",
    "        if measure_count == 1:\n",
    "            attributes = ET.Element('attributes')\n",
    "            divisions = ET.Element('divisions')\n",
    "            divisions.text = str(divs)\n",
    "            attributes.append(divisions)\n",
    "            measure.append(attributes)\n",
    "        \n",
    "    else:\n",
    "        root, mode = util.index_to_chord(d[1])\n",
    "        duration = int(math.ceil(util.Constants.RHYTHMS[d[0]] * divs))\n",
    "        \n",
    "        harmony = ET.Element('harmony')\n",
    "        harmony.attrib['print-frame'] = 'no'\n",
    "        \n",
    "        root_elem = ET.Element('root')\n",
    "        rootstep_elem = ET.Element('root-step')\n",
    "        rootstep_elem.text = root\n",
    "        root_elem.append(rootstep_elem)\n",
    "        harmony.append(root_elem)\n",
    "        \n",
    "        kind_elem = ET.Element('kind')\n",
    "        kind_elem.text = mode.lower()\n",
    "        harmony.append(kind_elem)\n",
    "        \n",
    "        measure.append(harmony)\n",
    "        \n",
    "        note = ET.Element('note')\n",
    "        \n",
    "        rest_elem = ET.Element('rest')\n",
    "        rest_elem.text = ''\n",
    "        note.append(rest_elem)\n",
    "        \n",
    "        dur_elem = ET.Element('duration')\n",
    "        dur_elem.text = str(duration)\n",
    "        note.append(dur_elem)\n",
    "        \n",
    "        voice_elem = ET.Element('voice')\n",
    "        voice_elem.text = str(1)\n",
    "        note.append(voice_elem)\n",
    "        \n",
    "        type_elem = ET.Element('type')\n",
    "        type_elem.text = util.Constants.RHYTHM_TYPES[d[0]]\n",
    "        note.append(type_elem)\n",
    "        \n",
    "        extra = util.Constants.RHYTHM_EXTRAS[d[0]]\n",
    "        if extra:\n",
    "            if extra == 'dot':\n",
    "                dot_elem = ET.Element('dot')\n",
    "                dot_elem.text = ''\n",
    "                note.append(dot_elem)\n",
    "            elif extra == 'time-modification':\n",
    "                timemod_elem = ET.Element('time-modification')\n",
    "                actual_elem = ET.Element('actual-notes')\n",
    "                actual_elem.text = str(3)\n",
    "                timemod_elem.append(actual_elem)\n",
    "                \n",
    "                normal_elem = ET.Element('normal-notes')\n",
    "                normal_elem.text = str(2)\n",
    "                timemod_elem.append(normal_elem)\n",
    "                \n",
    "                note.append(timemod_elem)\n",
    "        \n",
    "        measure.append(note)\n",
    "        \n",
    "if len(measure.getchildren()) > 0:\n",
    "    part_xml.append(measure)\n",
    "    \n",
    "sheet.write('seed_template/seed_template_1.xml')"
   ]
  },
  {
   "cell_type": "code",
   "execution_count": 68,
   "metadata": {},
   "outputs": [
    {
     "data": {
      "text/plain": [
       "<Element 'part' at 0x7fd80cf90b38>"
      ]
     },
     "execution_count": 68,
     "metadata": {},
     "output_type": "execute_result"
    }
   ],
   "source": [
    "part_xml = sheet.getroot().find('part')\n",
    "part_xml"
   ]
  },
  {
   "cell_type": "code",
   "execution_count": 26,
   "metadata": {},
   "outputs": [],
   "source": [
    "sheet = ET.parse('seed_template/seed_1.xml')"
   ]
  },
  {
   "cell_type": "code",
   "execution_count": 49,
   "metadata": {},
   "outputs": [
    {
     "data": {
      "text/plain": [
       "'2'"
      ]
     },
     "execution_count": 49,
     "metadata": {},
     "output_type": "execute_result"
    }
   ],
   "source": [
    "sheet.getroot().find('part').getchildren()[0].getchildren()[0].getchildren()[0].text"
   ]
  },
  {
   "cell_type": "code",
   "execution_count": 42,
   "metadata": {},
   "outputs": [
    {
     "data": {
      "text/plain": [
       "[]"
      ]
     },
     "execution_count": 42,
     "metadata": {},
     "output_type": "execute_result"
    }
   ],
   "source": [
    "measure = ET.Element('measure')\n",
    "measure.getchildren()"
   ]
  },
  {
   "cell_type": "code",
   "execution_count": 39,
   "metadata": {},
   "outputs": [
    {
     "data": {
      "text/plain": [
       "{'number': '1'}"
      ]
     },
     "execution_count": 39,
     "metadata": {},
     "output_type": "execute_result"
    }
   ],
   "source": [
    "measure.attrib"
   ]
  },
  {
   "cell_type": "code",
   "execution_count": 4,
   "metadata": {},
   "outputs": [],
   "source": [
    "import mxl_generator"
   ]
  },
  {
   "cell_type": "code",
   "execution_count": 5,
   "metadata": {},
   "outputs": [],
   "source": [
    "CRM = mxl_generator.ChordRhythmMXL('seed_template/seed_template.xml')"
   ]
  },
  {
   "cell_type": "code",
   "execution_count": 6,
   "metadata": {},
   "outputs": [],
   "source": [
    "CRM.process(data)"
   ]
  },
  {
   "cell_type": "code",
   "execution_count": 7,
   "metadata": {},
   "outputs": [],
   "source": [
    "CRM.write_mxl('xxxx.mxl')"
   ]
  },
  {
   "cell_type": "code",
   "execution_count": null,
   "metadata": {},
   "outputs": [],
   "source": []
  }
 ],
 "metadata": {
  "kernelspec": {
   "display_name": "Python 3",
   "language": "python",
   "name": "python3"
  },
  "language_info": {
   "codemirror_mode": {
    "name": "ipython",
    "version": 3
   },
   "file_extension": ".py",
   "mimetype": "text/x-python",
   "name": "python",
   "nbconvert_exporter": "python",
   "pygments_lexer": "ipython3",
   "version": "3.6.7"
  }
 },
 "nbformat": 4,
 "nbformat_minor": 2
}
